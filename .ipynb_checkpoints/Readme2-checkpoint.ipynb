{
 "cells": [
  {
   "cell_type": "markdown",
   "id": "1660554d",
   "metadata": {},
   "source": [
    "## Phase 2 Project\n",
    "\n",
    "Final Project Submission\n",
    "Please fill out:\n",
    "\n",
    "- Student name: Andrew Levinton\n",
    "- Student pace: self paced\n",
    "- Scheduled project review date/time:\n",
    "- Instructor name: Ahbhineet Kukarni\n",
    "- Blog post URL:"
   ]
  },
  {
   "cell_type": "markdown",
   "id": "78d40796",
   "metadata": {},
   "source": [
    "## Business Problem:\n",
    "# Stakeholder: Real Estate Agency - Zillow"
   ]
  },
  {
   "attachments": {},
   "cell_type": "markdown",
   "id": "4be37676",
   "metadata": {},
   "source": [
    "![Zillow_logo19.png](./images/zillow.png)"
   ]
  },
  {
   "cell_type": "markdown",
   "id": "d6da4805",
   "metadata": {},
   "source": [
    "# Problem: \n",
    "Business problem - Provide advice to homeowners about how home renovations might increase the estimated value of their homes, and by what amount."
   ]
  },
  {
   "cell_type": "markdown",
   "id": "633048fd",
   "metadata": {},
   "source": [
    "### How problem will be approached"
   ]
  },
  {
   "cell_type": "markdown",
   "id": "f3d5e9e0",
   "metadata": {},
   "source": [
    "This problem will be approached using information from a built in linear regression model. The model will be built using both numerical and categorical data to provide what features may help to increase the price of peoples homes. Numerical data will be explored and categorical data will be added after in an attempt to improve the model."
   ]
  },
  {
   "cell_type": "markdown",
   "id": "bb28815c",
   "metadata": {},
   "source": [
    "### Description of the Data:\n",
    "King County House Sales dataset\n",
    "columns can be referred to in readme."
   ]
  },
  {
   "cell_type": "markdown",
   "id": "04aaafd5",
   "metadata": {},
   "source": [
    "### Target variable\n",
    "* `price` - Sale price (prediction target)"
   ]
  },
  {
   "cell_type": "markdown",
   "id": "93a6139f",
   "metadata": {},
   "source": [
    "Possible continuous numerical predictors, based on correlation:\n",
    "\n",
    "Based on correlation coefficient:\n",
    "- `sqft_living`- Square footage of living space in the home\n",
    "- `sqft_above`- Square footage of house apart from basement\n",
    "- `bathrooms`- Number of bathrooms\n",
    "- `sqft_patio`- Square footage of outdoor porch or deck space\n",
    "- `bedrooms` - Number of bedrooms\n",
    "-`sqft_garage`- Square footage of garage space\n",
    "\n",
    "Other numerical variables:\n",
    "- `sqft_lot` - Square footage of the lot\n",
    "- `sqft_basement` - Square footage of the basement\n",
    "- `lat` - Latitude coordinate\n",
    "- `long` - Longitude coordinate"
   ]
  },
  {
   "cell_type": "markdown",
   "id": "d3e0a5de",
   "metadata": {},
   "source": [
    "### Simple Linear Regression on select features"
   ]
  },
  {
   "cell_type": "markdown",
   "id": "82c8e337",
   "metadata": {},
   "source": [
    "These categories are interesting because they are both continuous and integer values that \n",
    "\n",
    "Possible string categorical variables:\n",
    "- `greenbelt`- Whether the house is adjacent to a green belt\n",
    "- `view`- Quality of view from house\n",
    "- `waterfront` - Whether the house is on a waterfront\n",
    "  * Includes Duwamish, Elliott Bay, Puget Sound, Lake Union, Ship Canal, Lake Washington, Lake Sammamish, other lake, and river/slough waterfronts\n",
    "- `nuisance` - Whether the house has traffic noise or other recorded nuisances\n",
    "* `date` - Date house was sold\n",
    "\n",
    "Possible numerical categorical variables:\n",
    "* `condition` - How good the overall condition of the house is. Related to maintenance of house.\n",
    "  * See the [King County Assessor Website](https://info.kingcounty.gov/assessor/esales/Glossary.aspx?type=r) for further explanation of each condition code\n",
    "\n",
    "* `grade` - Overall grade of the house. Related to the construction and design of the house.\n",
    "  * See the [King County Assessor Website](https://info.kingcounty.gov/assessor/esales/Glossary.aspx?type=r) for further explanation of each \n",
    "\n",
    "\n",
    "* `bedrooms` - Number of bedrooms\n",
    "* `bathrooms` - Number of bathrooms\n",
    "* `floors` - Number of floors (levels) in house"
   ]
  },
  {
   "cell_type": "markdown",
   "id": "bd565e83",
   "metadata": {},
   "source": [
    "Assumption check:\n",
    "- `Is it linear?`\n",
    "- `Is it normal?`\n",
    "    - histogram\n",
    "    - QQ-plot\n",
    "- `Is it homoscedastic?`"
   ]
  },
  {
   "cell_type": "markdown",
   "id": "a52bb791",
   "metadata": {},
   "source": [
    "### Plan for building stats model:\n",
    "- Narrow down variables to selections(also known as FEATURES)\n",
    "- One hot encode any categorical variables for plotting purposes\n",
    "- be prepared to remove certain \"dummies\" from the dataset to optimize one hot encoding. \n",
    "\n",
    "### Process for \"narrowing\":\n",
    "- Look at:\n",
    "    - `Scatter plots`\n",
    "    - `histograms`\n",
    "    - `correlation coefficients`\n",
    "    - `statsmodel p-values to test if the feature is statistically significant`\n",
    "- Try transforming the data via linear, logarithmic or polynomial transformation to see how shape of data changes. "
   ]
  },
  {
   "cell_type": "markdown",
   "id": "38d51b23",
   "metadata": {},
   "source": [
    "### Variance inflation factor (VIF)\n",
    "\n",
    "Multicollinearity occurs when there are two or more independent variables in a multiple regression model, which have a high correlation among themselves. When some features are highly correlated, we might have difficulty in distinguishing between their individual effects on the dependent variable. Multicollinearity can be detected using various techniques, one such technique being the Variance Inflation Factor(VIF).\n",
    "\n",
    "In VIF method, we pick each feature and regress it against all of the other features. For each regression, the factor is calculated as :\n",
    "\n",
    "VIF = 1 / (1 - R^2)\n",
    "\n",
    "Where, R-squared is the coefficient of determination in linear regression. Its value lies between 0 and 1.\n",
    "\n",
    "The list of variance inflation factors are calculated for each numerical value below:\n",
    "\n",
    "\n",
    "#### VIF Data: \n",
    "\n",
    "* `price`: 4.32\n",
    "* `bedrooms`: 24.61\n",
    "* `bathrooms`: 24.74\n",
    "* `sqft_living`: 115.26\n",
    "* `sqft_lot`: 1.14\n",
    "* `floors`: 15.61\n",
    "* `sqft_above`: 89.28\n",
    "* `sqft_basement`: 6.38\n",
    "* `sqft_garage`: 3.84\n",
    "* `sqft_patio`: 2.23\n",
    "* `yr_built`: 1057.3\n",
    "* `yr_renovated`: 1.1\n",
    "* `lat`: 2375.3\n",
    "* `long`: 1099.66\n",
    "* `month`: 699.65\n",
    "* `day_of_year`: 614.34"
   ]
  },
  {
   "cell_type": "markdown",
   "id": "f83032f4",
   "metadata": {},
   "source": [
    "#### VIF levels:\n",
    "\n",
    "- Good: VIF <= 5\n",
    "\n",
    "- Moderate/Questionable: VIF >=5 and VIF <= 10\n",
    "\n",
    "- Throw out: VIF >= 10"
   ]
  },
  {
   "cell_type": "markdown",
   "id": "729df8e9",
   "metadata": {},
   "source": [
    "#### Good VIFS: \n",
    "- `price`: 4.32\n",
    "- `sqft_lot`: 1.14\n",
    "- `sqft_garage`: 3.84\n",
    "- `sqft_patio`: 2.23\n",
    "- `yr_renovated`: 1.1\n",
    "\n",
    "#### Questionable VIFS: \n",
    "- `sqft_basement`: 6.38\n",
    "\n",
    "#### Throw out VIFS: \n",
    "- `bedrooms`: 24.61\n",
    "- `bathrooms`: 24.74\n",
    "- `sqft_living`: 115.26\n",
    "- `floors`: 15.61\n",
    "- `sqft_above`: 89.28\n",
    "- `yr_built`: 1057.3\n",
    "- `lat`: 2375.3\n",
    "- `long`: 1099.66\n",
    "- `month`: 699.65\n",
    "- `day_of_year`: 614.34\n",
    "\n",
    "It appears at first glance that the data only yields a small set of independent variables that are not highly collinear with eachother. This will be looked at again after the removal of outliers, and the transformation of data."
   ]
  },
  {
   "attachments": {},
   "cell_type": "markdown",
   "id": "8fd00031",
   "metadata": {},
   "source": [
    "![image.png](./images/scatterplots.png)"
   ]
  },
  {
   "cell_type": "markdown",
   "id": "0ef4e5cc",
   "metadata": {},
   "source": [
    "# Model #1 - numerical predictors only, some categorical\n",
    "Predictors:\n",
    "- `bedrooms`\n",
    "- `bathrooms`\n",
    "- `sqft_living`\n",
    "- `sqft_lot`\n",
    "- `floors`\n",
    "- `condition` - redefined to numerical values\n",
    "- `grade`- redefined to numerical values\n",
    "- `sqft_above`\n",
    "- `sqft_basement`\n",
    "- `sqft_garage`\n",
    "- `sqft_patio`\n",
    "- `lat`\n",
    "- `long`\n",
    "\n",
    "Target variable:\n",
    "- `price`\n",
    "\n",
    "\n",
    "## Observations\n",
    "p_value > 0.05\n",
    "\n",
    "- `sqft_lot`\n",
    "- `month`\n",
    "- `cond_Fair`\n",
    "- `cond_Poor`\n",
    "\n",
    "\n",
    "** look at again after adjusting for outliers\n",
    "\n",
    "\n",
    " - All variables with a p_value > 0.05 are deemed statistically insignificant and will eventually be dropped from the final model.\n",
    " - With half the condition data(`cond_Fair`, `cond_Poor`) being insignificant in the model, it makes sense to drop the condition data completely. \n",
    " - Month was not anticipated as an effective predictor because it is not typical for the season to affect the sale price of a house.\n",
    " \n",
    " \n",
    "Additional Observations:\n",
    " - The adjusted r-squared value is .514, indicating that his model can explain approximately 51.4% of the data.\n",
    " -  Skew: A kurtosis value between -2 and +2 is good to prove normalcy. The kurtosis value is 10.060, indicating that this model is heavily skewed. This will be addressed through transformations to normalize the data. "
   ]
  },
  {
   "attachments": {},
   "cell_type": "markdown",
   "id": "e57c4a31",
   "metadata": {},
   "source": [
    "![image-2.png](./images/model1.png)"
   ]
  },
  {
   "attachments": {},
   "cell_type": "markdown",
   "id": "47d134c5",
   "metadata": {},
   "source": [
    "![image.png](./images/model1residhist.png)"
   ]
  },
  {
   "cell_type": "markdown",
   "id": "bbe2cae6",
   "metadata": {},
   "source": [
    "## Possible Improvements to be made to model:\n",
    "- dropping of variables that are not statistically significant (Pval > 0.05)\n",
    "- addition of categorial variables(one hot encoded)\n",
    "- location would possibly be the most interesting variable, mapped against the waterfront or view variable\n",
    "- transformation of data to satisfy normality assumption -ex: log transformation or square root transformation\n",
    "- removal of outliers: Outliers in this case will be considered to be any data falling greater than \n",
    "  3 standard deviations outside the mean\n",
    "### Goals\n",
    "    - improve skewness\n",
    "    - reduce homoscedacity\n",
    "    - increase rsquared to promote higher level explanation of data from model"
   ]
  },
  {
   "cell_type": "markdown",
   "id": "b6fca8e9",
   "metadata": {},
   "source": [
    "## Possible categorical variables of interest: \n",
    "\n",
    "* `waterfront` - Whether the house is on a waterfront\n",
    "  * Includes Duwamish, Elliott Bay, Puget Sound, Lake Union, Ship Canal, Lake Washington, Lake Sammamish, other lake, and river/slough waterfronts\n",
    "* `greenbelt` - Whether the house is adjacent to a green belt\n",
    "* `nuisance` - Whether the house has traffic noise or other recorded nuisances\n",
    "* `view` - Quality of view from house\n",
    "  * Includes views of Mt. Rainier, Olympics, Cascades, Territorial, Seattle Skyline, Puget Sound, Lake Washington, Lake Sammamish, small lake / river / creek, and other\n",
    "* `heat_source` - Heat source for the house\n",
    "* `sewer_system` - Sewer system for the house\n",
    "* `address` - The street address\n",
    "\n",
    "The grade and condition are already changed to numerical variables, so this part of the analysis will focus on the string categorical variables. \n",
    "\n",
    "The address appears to be the most interesting variable in the batch because it can be mapped against the waterfronts or the quality of view from the houses. For this, we will extrapolate features of the address to reduce and categorize the location. \n",
    "\n",
    "Waterfont, greenbelt, nuisance, view, sewer(onehotencoded), and heat source(onehotencoded) are added to the model to see its effects."
   ]
  },
  {
   "cell_type": "markdown",
   "id": "cf31f204",
   "metadata": {},
   "source": [
    "## Model #2"
   ]
  },
  {
   "cell_type": "markdown",
   "id": "7319965c",
   "metadata": {},
   "source": [
    "![image-2.png](./images/model2.png)"
   ]
  },
  {
   "cell_type": "markdown",
   "id": "991c4aee",
   "metadata": {},
   "source": [
    "## Observations of Model 2\n",
    "Predictors:\n",
    "- 'bedrooms'\n",
    "- 'bathrooms'\n",
    "- 'sqft_living'\n",
    "- 'floors'\n",
    "- 'grade'\n",
    "- 'sqft_above',\n",
    "- 'sqft_basement'\n",
    "- 'sqft_garage'\n",
    "- 'sqft_patio'\n",
    "- 'yr_built',\n",
    "- 'yr_renovated'\n",
    "- 'lat'\n",
    "- 'long'\n",
    "- 'day_of_year'\n",
    "- 'waterfront'\n",
    "- 'nuisance',\n",
    "- 'view'\n",
    "- 'heat_source' - one hot encoded\n",
    "- 'sewer' - one hot encoded\n",
    "\n",
    "pvalue > 0.05\n",
    "- yr_renovated\n",
    "- month\n",
    "- sewer_PRIVATE RESTRICTED\n",
    "- sewer_PUBLIC RESTRICTED\n",
    "- heat_source_Electricity/Solar\n",
    "- heat_source_Gas\n",
    "- heat_source_Gas/Solar\n",
    "- heat_source_Oil/Solar\n",
    "- heat_source_Other\n",
    "- nuisance\n",
    "- greenbelt\n",
    "\n",
    "Categorical variables of waterfront, nuisance, and view were encoded with numbers to see if improvements were made. \n",
    "\n",
    "Model is still highly skewed although did present itself with some improvements. Next steps will be to normalize the data by transforming features that are skewed within the data, as well as remove outliers\n",
    "\n",
    "- Jarque-Bera score is sky high and must come down for the model to hold any validity. \n",
    "- Durbin Watson score is in the acceptable range of 1.50-2.50\n",
    "- Rsquared has 'improved' but only at the expense of the the continued flaws mentioned before. \n",
    "\n",
    "## Next Steps\n",
    "Next steps are to improve numerical variables by:\n",
    "- `removing outliers to improve skew` \n",
    "- An outlier will be defined as three standard deviations away from the mean of the target variable.\n",
    "\n",
    "- `transform variables so they are normally distributed within the model`\n",
    "- The target variable will be transformed to normalize the distribution. \n",
    "- removing variables that have a pvalue > 0.05"
   ]
  },
  {
   "cell_type": "markdown",
   "id": "312e8b56",
   "metadata": {},
   "source": [
    "## Model #3 - Ran after outliers are removed"
   ]
  },
  {
   "cell_type": "markdown",
   "id": "60d3eaee",
   "metadata": {},
   "source": [
    "![image.png](./images/model3ranafteroutliersremoved.png)"
   ]
  },
  {
   "cell_type": "markdown",
   "id": "17d344ed",
   "metadata": {},
   "source": [
    "![image.png](./images/model3residafteroutliersremoved.png)"
   ]
  },
  {
   "cell_type": "markdown",
   "id": "96c57a4a",
   "metadata": {},
   "source": [
    "#### Predictors\n",
    "\n",
    "- `bedrooms`\n",
    "- `bathrooms` \n",
    "- `sqft_living` \n",
    "- `sqft_lot \n",
    "- `floors`\n",
    "- `condition` \n",
    "- `grade` \n",
    "- `sqft_above` \n",
    "- `sqft_basement` \n",
    "- `sqft_garage`\n",
    "- `sqft_patio` \n",
    "- `yr_built` \n",
    "- `yr_renovated` \n",
    "- `lat` \n",
    "- `long` \n",
    "- `month`\n",
    "- `day_of_year` \n",
    "- `sewer_PRIVATE RESTRICTED` \n",
    "- `sewer_PUBLIC`\n",
    "- `sewer_PUBLIC RESTRICTED` \n",
    "- `heat_source_Electricity/Solar`\n",
    "- `heat_source_Gas` \n",
    "- `heat_source_Gas/Solar` \n",
    "- `heat_source_Oil`\n",
    "- `heat_source_Oil/Solar` \n",
    "- `heat_source_Other` \n",
    "- `waterfront` \n",
    "- `nuisance`\n",
    "- `view` \n",
    "- `greenbelt`\n",
    "\n",
    "## Observations of model 3\n",
    "pvalue > 0.05\n",
    "- `sqft_basement` \n",
    "- `sqft_garage`\n",
    "- `sewer_PRIVATE RESTRICTED`\n",
    "- `sewer_PUBLIC RESTRICTED`\n",
    "- `heat_source_Electricity/Solar`\n",
    "- `heat_source_Oil/Solar`\n",
    "- `heat_source_Other`\n",
    "\n",
    "\n",
    "\n",
    "- Adjusted rsquared indicates that the model explains 62.2% of the data.\n",
    "- Skewness has improved dramatically to an acceptable range between -2 and 2. The removal of outliers has made this possible.\n",
    "- Durbin-Watson score is still in the acceptable ranges of 1.5-2.5\n",
    "- Jarque-Bera score is still very high but has been brought down by a significant factor. Still not perfect but trending in the right direction.\n",
    "- Multicollinearity is possibly present in the model and likely so given the initial VIFs before the first model was built. VIFS should be revisited again to see if those variables are worth keeping. "
   ]
  },
  {
   "attachments": {},
   "cell_type": "markdown",
   "id": "6fb3927f",
   "metadata": {},
   "source": [
    "# Looking at transformations for the target variable aka price.\n",
    "\n",
    "## Histogram and QQplot of the target variable\n",
    "![image.png](./images/histQQprice.png)\n",
    "\n",
    "### Issue above is the data shows linearization everywhere but both tails of the data. Catching the lower tail will be the goal for the test of transformation. For this, we will try a root transformation. \n",
    "\n",
    "\n",
    "## Histogram and QQplot of the transformed target variable\n",
    "![image-2.png](./images/histqqsqrtprice.png)\n",
    "\n",
    "\n",
    "\n",
    "![image-3.png](./images/TVthroughiterations.png)"
   ]
  },
  {
   "attachments": {},
   "cell_type": "markdown",
   "id": "de1e6fc1",
   "metadata": {},
   "source": [
    "### Checking model with transformed target variable - square root transformation\n",
    "![image.png](./images/model3withsqrtprice.png)\n",
    "\n",
    "\n",
    "![image-2.png](./images/model3residsqrtprice.png)\n",
    "\n",
    "## y_log vs y_sqrt\n",
    "\n",
    "The model with the square root transformation appears to be less skewed and possesses a higher rsquared value, lending the ability of the model to explain more of the data. For these reasons we will use y_sqrt as our dependent variable for now until y_log appears to outweight the benefit of y_sqrt.\n",
    "\n",
    "Jarque-Beras score is significantly better as well with the y_sqrt variable so I'll go with it for now. "
   ]
  },
  {
   "attachments": {},
   "cell_type": "markdown",
   "id": "a5456fbb",
   "metadata": {},
   "source": [
    "## Checking distribution of predictor\n",
    "\n",
    "\n",
    "### Looking at sqft_living\n",
    "![image.png](./images/sqftliving.png)\n",
    "\n",
    "### Log transformed sqft_living (sqft_living_log)\n",
    "![image-2.png](./images/sqftliving_log.png)"
   ]
  },
  {
   "attachments": {
    "image-4.png": {
     "image/png": "[encoded data removed]"
    },
    "image-5.png": {
     "image/png": "[encoded data removed]"
    }
   },
   "cell_type": "markdown",
   "id": "d478a496",
   "metadata": {},
   "source": [
    "## Model ran one more time - after dropping bedrooms, and all onehotencoded variables with pval > 0,05\n",
    "\n",
    "![image-4.png](attachment:image-4.png)\n",
    "\n",
    "### Residual distribution\n",
    "![image-5.png](attachment:image-5.png)\n",
    "\n",
    "\n",
    "\n",
    "## Observations\n",
    "\n",
    "- pval > 0.05\n",
    "\n",
    "`bedrooms` - dropped from the current model\n",
    "\n",
    "- all variables are statistically significant (pvalue < 0.05)\n",
    "- Durbin-Watson Score continues to be \"fine\" but not improve a whole lot.\n",
    "- Jarque-Bera Score continues to improve but still must come down\n",
    "- skewness is now an afterthought as its at a very low -0.347\n",
    "Overall no real improvement of the model happens here, we will try adding in new variables to improve as well as revisit VIFs to likely drop all that were originally at extremely high levels. \n",
    "\n",
    "\n",
    "Next steps to improve the model:\n",
    "1. revisit VIFs to see if any variables(now that outliers are removed and data has been transformed) should now be dropped from the model. \n",
    "2. New predictors will be engineered to be added to the model. The next focus will be on the zipcodes in an attempt to narrow down the data with location-dependent price points. Possible data to be looked at are:\n",
    "- waterfronts \n",
    "- views\n",
    "- school districts: rating, and school taxes\n",
    "- tax brackets"
   ]
  },
  {
   "attachments": {},
   "cell_type": "markdown",
   "id": "720eb9ba",
   "metadata": {},
   "source": [
    "## Rerunning model after scaling\n",
    "\n",
    "![image.png](./images/modelnobedrooms.png)\n",
    "\n",
    "### Residual Distribution Plot \n",
    "![image.png](./images/residualnobedrooms.png)\n",
    "\n",
    "#### Checking VIFs\n",
    "![image-3.png](./images/VIFcheck1.png)\n",
    "- VIFs for many variables are still elevated and need to be dropped from model if that remains in the final model. "
   ]
  },
  {
   "attachments": {},
   "cell_type": "markdown",
   "id": "d1e9dcde",
   "metadata": {},
   "source": [
    "## Final model\n",
    "\n",
    "#### Model is ran after adding the waterfront data (one hot encoded) as well as dropping any additional variables that are of a pvalue > 0.05\n",
    "\n",
    "![image.png](./images/finalmodel.png)\n",
    "### Residual Distribution Plot \n",
    "\n",
    "![image-2.png](./images/finalresid.png)\n",
    "\n",
    "### Final Check on VIFs for multicollinearity\n",
    "![image-3.png](./images/finalVIFs.png)\n",
    "\n",
    "- All VIFs are under 10 with the majority under 3, addressing the issue of multicollinearity. The statsmodel also does not label any concerns on multicollinearity."
   ]
  },
  {
   "attachments": {},
   "cell_type": "markdown",
   "id": "0d3ae68a",
   "metadata": {},
   "source": [
    "### QQplots of all variables\n",
    "\n",
    "As shown below, the QQplots of all the variables satisfies linearity which is one of the required assumptions for the model, with some issues at the upper and lower tail for some. \n",
    "\n",
    "![image.png](./images/finalqqplots.png)"
   ]
  },
  {
   "cell_type": "markdown",
   "id": "d508a666",
   "metadata": {},
   "source": [
    "### Interpretation"
   ]
  },
  {
   "cell_type": "markdown",
   "id": "80bfd65e",
   "metadata": {},
   "source": [
    "We have a linear model with the dependent variable (price) square root transformed, and the following independent variables and their corresponding coefficients:\n",
    "\n",
    "- Bathrooms: 17.832111\n",
    "- Sqft_lot: 10.776486\n",
    "- Floors: -5.769272\n",
    "- Condition: 23.438047\n",
    "- Grade: 69.763857\n",
    "- Sqft_above: 63.905587\n",
    "- Sqft_basement: 17.451898\n",
    "- Sqft_garage: -3.105150\n",
    "- Sqft_patio: 7.790561\n",
    "- Yr_built: -26.362631\n",
    "- Yr_renovated: 6.568336\n",
    "- Lat: 100.368386\n",
    "- Long: 11.706009\n",
    "- Sewer_PUBLIC: 5.427152\n",
    "- Heat_source_Gas: 9.342830\n",
    "- Heat_source_Gas/Solar: 3.547675\n",
    "- Waterfront: 7.009294\n",
    "- Nuisance: -5.658225\n",
    "- View: 23.057945\n",
    "- Greenbelt: 7.569852\n",
    "- Sqft_living_log: 15.177339\n",
    "- Water_Lake Sammamish: 137.741862\n",
    "- Water_Lake Washington: -22.604616\n",
    "- Water_other: 34.141607\n",
    "\n",
    "`- Adjusted rsquared indicates the model explains 62.6% of the data`\n",
    "\n",
    "The linear regression model with a dependent variable that has been square root transformed and scaled, along with independent variables that have been scaled as z-scores, can be interpreted as follows:\n",
    "\n",
    "The model is used to predict the price of a house, which has been square root transformed, based on the values of several independent variables. Each independent variable has been standardized to a z-score, so the coefficients represent the change in the dependent variable (price) for a one standard deviation increase in the independent variable.\n",
    "\n",
    "Specifically, the interpretation of the coefficients is as follows:\n",
    "\n",
    "- Bathrooms: A one-unit increase in the number of bathrooms corresponds to an increase in the predicted square root transformed price by 17.832111 standard deviations of the bathrooms variable. This suggests that having more bathrooms is positively associated with a higher predicted price.\n",
    "\n",
    "- Sqft_lot: A one-unit increase in the square footage of the lot corresponds to an increase in the predicted price by 10.776486 standard deviations of the sqft_lot variable. This suggests that having a larger lot size is positively associated with a higher predicted price.\n",
    "\n",
    "- Floors: A one-unit increase in the number of floors corresponds to a decrease in the predicted price by 5.769272 standard deviations of the floors variable. This suggests that having more floors in a house is negatively associated with the predicted price.\n",
    "\n",
    "- Condition: A one-unit increase in the condition score corresponds to an increase in the predicted square root transformed price by 23.438047 standard deviations of the condition variable. This suggests that having a better condition is positively associated with a higher predicted price.\n",
    "\n",
    "- Grade: A one-unit increase in the grade score corresponds to an increase in the predicted square root transformed price by 69.763857 standard deviations of the grade variable. This suggests that having a higher grade is positively associated with a higher predicted price.\n",
    "\n",
    "- Sqft_above: A one-unit increase in the square footage apart from the basement corresponds to an increase in the predicted square root transformed price by 63.905587 standard deviations of the sqft_above variable. This suggests that having a larger living area above ground is positively associated with a higher predicted price.\n",
    "\n",
    "- Sqft_basement: A one-unit increase in the square footage of the basement corresponds to an increase in the predicted square root transformed price by 17.451898 standard deviations of the sqft_basement variable. This suggests that having a larger basement area is positively associated with a higher predicted price.\n",
    "\n",
    "- Sqft_garage: A one-unit increase in the square footage of the garage corresponds to a decrease in the predicted price by 3.105150 standard deviations of the sqft_garage variable. This suggests that having a larger garage area is negatively associated with the predicted price.\n",
    "\n",
    "- Sqft_patio: A one-unit increase in the square footage of the patio corresponds to an increase in the predicted square root transformed price by 7.790561 standard deviations of the sqft_patio variable. This suggests that having a larger patio area is positively associated with a higher predicted price.\n",
    "\n",
    "- Yr_built: A one-unit increase in the year the house was built corresponds to a decrease in the predicted price by 26.362631 standard deviations of the yr_built variable. This suggests that houses built in more recent years are positively associated with a higher predicted price.\n",
    "\n",
    "- Yr_renovated: A one-unit increase in the year the house was renovated corresponds to an increase in the predicted square root transformed price by 6.568336 standard deviations of the yr_renovated variable. This suggests that houses that were renovated more recently are positively associated with a higher predicted price.\n",
    "\n",
    "- Lat: A one-unit increase in the latitude corresponds to an increase in the predicted square root transformed price by 100.368386 standard deviations of the latitude variable. This suggests that houses located at higher latitudes are positively associated with a higher predicted price.\n",
    "\n",
    "- Long: A one-unit increase in the longitude corresponds to an increase in the predicted square root transformed price by 11.706009 standard deviations of the longitude variable. This suggests that houses located at higher longitudes are positively associated with a higher predicted price.\n",
    "\n",
    "- Sewer_PUBLIC: A house with public sewer corresponds to an increase in the predicted square root transformed price by 5.427152 standard deviations of the sewer_PUBLIC variable. This suggests that houses connected to public sewer are positively associated with a higher predicted price.\n",
    "\n",
    "- Heat_source_Gas: A house with a gas heat source corresponds to an increase in the predicted square root transformed price by 9.342830 standard deviations of the heat_source_Gas variable. This suggests that houses with gas heat sources are positively associated with a higher predicted price.\n",
    "\n",
    "- Heat_source_Gas/Solar: A house with a gas/solar hybrid heat source corresponds to an increase in the predicted square root transformed price by 3.547675 standard deviations of the heat_source_Gas/Solar variable. This suggests that houses with gas/solar hybrid heat sources are positively associated with a higher predicted price.\n",
    "\n",
    "- Waterfront: A house with a waterfront view corresponds to an increase in the predicted square root transformed price by 7.009294 standard deviations of the waterfront variable. This suggests that houses with waterfront views are positively associated with a higher predicted price.\n",
    "\n",
    "- Nuisance: A house located near a nuisance corresponds to a decrease in the predicted price by 5.658225 standard deviations of the nuisance variable. This suggests that houses located near nuisances are negatively associated with the predicted price.\n",
    "\n",
    "- View: A house with a view corresponds to an increase in the predicted square root transformed price by 23.057945 standard deviations of the view variable. This suggests that houses with views are positively associated with a higher predicted price.\n",
    "\n",
    "- Greenbelt: A house located near a greenbelt corresponds to an increase in the predicted square root transformed price by 7.569852 standard deviations of the greenbelt variable. This suggests that houses located near greenbelts are positively associated with a higher predicted price.\n",
    "\n",
    "- Sqft_living_log: A one-unit increase in the logarithm of the square footage of the living area corresponds to an increase in the predicted square root transformed price by 15.177339 standard deviations of the sqft_living_log variable. This suggests that having a larger living area is positively associated with a higher predicted price.\n",
    "\n",
    "- Water_Lake Sammamish: A house located near Lake Sammamish corresponds to an increase in the predicted square root transformed price by 137.741862 standard deviations of the Water_Lake Sammamish variable. This suggests that houses located near Lake Sammamish are strongly positively associated with a higher predicted price.\n",
    "\n",
    "- Water_Lake Washington: A house located near Lake Washington corresponds to a decrease in the predicted square root transformed price by 22.604616 standard deviations of the Water_Lake Washington variable. This suggests that houses located near Lake Washington are negatively associated with the predicted price."
   ]
  },
  {
   "cell_type": "markdown",
   "id": "3e6a1fd8",
   "metadata": {},
   "source": [
    "## Conclusion\n",
    "This entire process included the above described data engineering techniques, as well as an extensive look at transforming variables, feature selection and elimination through trial and error. Different transformations on the price for example were attempted to normalize the distribution, but the decision was made to use the square root transformation as it lended itself to dealing with the upper and lower tails of the distribution of the price more efficiently. \n",
    "\n",
    "The rest of the data cleaning process also included dropping or filling in of missing values, removal of outliers, one hot encoding categorical variables as well as dropping all variables that presented themselves with a high variance inflation factor. The use of QQplots and histograms were used to check the distribution of residuals. \n",
    "\n",
    "\n",
    "## Four assumptions\n",
    "The decisions of the creation of this model were based on the four assumptions with the method of justification, which are:\n",
    "\n",
    "1. Linearity assumption: Scatterplots of the variables should represent some level of linearity aka correlation to the target variable. The use of scatterplots and correlation matrices were the method of justification for this assumption. \n",
    "\n",
    "2. Normality Assumption: Use of QQplots and Residual histograms were the method for justifying normality. \n",
    "The normality assumption in linear regression models refers to the assumption that the residuals (i.e., the difference between the observed and predicted values) are normally distributed. This assumption is important because many statistical tests and procedures used in linear regression models rely on the assumption of normality, including hypothesis testing, confidence intervals, and prediction intervals.\n",
    "\n",
    "One way to check for normality of the residuals is by using a Q-Q plot (quantile-quantile plot). A Q-Q plot is a graphical tool that compares the distribution of the residuals to a normal distribution. If the residuals are normally distributed, the points in the Q-Q plot should follow a straight line. Any deviation from the straight line indicates that the residuals are not normally distributed. Specifically, if the points in the Q-Q plot deviate from the straight line in the tails of the distribution, it suggests that the residuals have heavier tails than a normal distribution. On the other hand, if the points in the Q-Q plot deviate from the straight line in the center of the distribution, it suggests that the residuals have a skewed distribution.\n",
    "\n",
    "Another way to check for normality of the residuals is by using a histogram. A histogram is a graph that shows the frequency distribution of the residuals. If the residuals are normally distributed, the histogram should have a bell-shaped curve, with the majority of the residuals near the mean and fewer residuals towards the tails of the distribution. Any deviation from the bell-shaped curve indicates that the residuals are not normally distributed.\n",
    "\n",
    "3. Homoscedasticity: Durbin-Watson score close to 2 indicates that the errors are approximately normally distributed with constant variance.\n",
    "\n",
    "A Durbin-Watson score close to 2 generally indicates that the model's errors are approximately homoscedastic (i.e., the variance of the errors is constant across all levels of the predictor variables).\n",
    "\n",
    "This is because a score close to 2 suggests that the errors are approximately normally distributed with constant variance, which is a key assumption of many regression models. When the errors are homoscedastic, it means that the variability of the dependent variable is relatively constant across different levels of the independent variables, which allows for more accurate estimation of the coefficients and predictions of the model.\n",
    "\n",
    "4. Multicollinearity: VIF scores for independent variables. \n",
    "\n",
    "Variance Inflation Factors (VIFs) are a measure used to assess the degree of multicollinearity in a multiple regression model. Multicollinearity occurs when two or more independent variables in a regression model are highly correlated with each other, which can make it difficult to interpret the individual effects of each variable on the dependent variable.\n",
    "\n",
    "\n",
    "## Final assessment and thoughts of the model\n",
    "- When plotted the model residuals show a normalized distribution, satisfying the normality assumption although with fairly long tails. This is something to be added into the future work. \n",
    "- The Durbin-Watson score is almost exactly 2, satisfying the assumption of homoscedasticity. \n",
    "- The linearity assumption was satisfied through a rigorous look at the plots and in general can be a difficult metric to validate. \n",
    "- The skew level of the data is well within the acceptable range of -2 to 2 which is a vast improvement from the original model which was originally above 10. \n",
    "- The kurtosis level is outside the acceptable range of -7 to 7 at a score of ~8.5, but however is still a major improvement from the original model. This is one that should be looked at later. \n",
    "- The Jarque Beras score is a massive 35770 which will require further investigation for future work. My instincts tell me there still may be some major outliers that may be affecting this score as the QQplots appear to be for the most part okay. \n",
    "\n",
    "\n",
    "\n",
    "## Conclusion\n",
    "\n",
    "`A positive coefficient indicates that as the corresponding independent variable increases, the square root of the price of the house also increases, while a negative coefficient indicates that as the corresponding independent variable increases, the square root of the price of the house decreases.`\n",
    "\n",
    "`In this model, we see that the most important variable in predicting the square root of house prices is the latitude of the house, with a coefficient of 100.368386. This suggests that houses located further north tend to have higher prices. The next most important variable is water proximity, with the Water_Lake Sammamish variable having a very high coefficient of 137.741862, suggesting that houses located near this lake tend to have much higher prices than other houses. On the other hand, the Water_Lake Washington variable has a negative coefficient, indicating that houses located near this lake tend to have lower prices than other houses.`\n",
    "\n",
    "`Other important variables include the grade of the house, the square footage of the house above ground, and the condition of the house, all with coefficients greater than 20. The number of bathrooms, square footage of the basement, and the size of the view from the house are also important, with coefficients greater than 15.`\n",
    "\n",
    "`On the other hand, variables such as the square footage of the garage and the presence of a nuisance nearby have negative coefficients, indicating that houses with larger garages or located near nuisances tend to have lower prices. The year the house was built has a negative coefficient, suggesting that older houses tend to have lower prices. With that, the longitude indicates that houses further West are cheaper as well.`\n",
    "\n",
    "`Overall, these results suggest that there are many factors that contribute to the price of a house, and that location, house size and quality, and the presence of nearby amenities all play important roles in determining the square root of house prices.`\n",
    "\n",
    "\n",
    "## Recommendations\n",
    "\n",
    "For the purposes of Zillows ability to choose inventory in the King County Real Estate Market, I recommend looking at properties that are near Lake Sammish or that are further north that also is accompanied with a waterfront. Since the grade, condition, and number of bathrooms appear positively correlated to the price it would make sense to try and buy older homes in the aformentioned areas as older homes tend to be cheaper in terms of price. Taking these homes and ensuring the grade and condition are of high quality through either pre-assessed purchases or renovations, along with possibly adding bathrooms can raise the price for resell value. \n",
    "\n",
    "Houses towards the west as well as ones that present nuisances clearly result in lower prices, so my recommendation would be to avoid buying houses that fit these parameters as it may result in \"holding the bag\" scenarios which could lead to longer times held with inventory. \n",
    "\n",
    "The only invalid metric that should probably be ignored for now(but explored further) is the size of the garage negatively affecting the price. I would not consider this to be an accurate assessment, but I do not want to exclude it from the model. \n",
    "\n",
    "\n",
    "#### Questions model can answer:\n",
    "\n",
    "- `Should the house be on a waterfront?`\n",
    "- `How far north should the houses be?`\n",
    "- `What age should the house have?`\n",
    "- `What level of renovations need to be performed on the houses, and when?`\n",
    "- `Will the house price be affected by common nuisances? (eg. noise, construction, bugs)`\n",
    "- `How far west should the house be before one should lose interest of the purchase?`\n",
    "\n",
    "## Future Work\n",
    "\n",
    "In the future work, it is worth revisiting the value of the homes on the remaining waterfronts and seeing if there is any statistical significance. More exploration is needed but was not ready to be presented at this time. \n",
    "\n",
    "The views that are highlighted in the column_names.md documentation can be explored and onehotencoded and could be a potential candidate feature. \n",
    "\n",
    "Jarque Beras score and outliers of the dataset should be further explored. The use of 3 standard deviations from the mean being the metric for outliers could be expanded slightly as it appears this was still affected in a major way. \n",
    "\n",
    "Any independent variables that presented with a Variance Inflation factor above 5 should be looked at again to see if multicollinearity is an issue with these particular variables. \n"
   ]
  },
  {
   "cell_type": "code",
   "execution_count": null,
   "id": "d8eb1882",
   "metadata": {},
   "outputs": [],
   "source": []
  }
 ],
 "metadata": {
  "kernelspec": {
   "display_name": "Python 3 (ipykernel)",
   "language": "python",
   "name": "python3"
  },
  "language_info": {
   "codemirror_mode": {
    "name": "ipython",
    "version": 3
   },
   "file_extension": ".py",
   "mimetype": "text/x-python",
   "name": "python",
   "nbconvert_exporter": "python",
   "pygments_lexer": "ipython3",
   "version": "3.9.7"
  }
 },
 "nbformat": 4,
 "nbformat_minor": 5
}
