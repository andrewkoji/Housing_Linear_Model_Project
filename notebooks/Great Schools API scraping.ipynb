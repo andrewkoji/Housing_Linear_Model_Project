{
 "cells": [
  {
   "cell_type": "code",
   "execution_count": 75,
   "id": "a105c0c3",
   "metadata": {},
   "outputs": [],
   "source": [
    "import json\n",
    "try:\n",
    "    from urllib.request import Request, urlopen  # Python 3\n",
    "except ImportError:\n",
    "    from urllib2 import Request, urlopen  # Python 2\n",
    "\n",
    "req = Request('https://gs-api.greatschools.org/schools?city=cortland&state=ny&limit=1000')\n",
    "req.add_header('X-API-Key', 'Zu2Iw9Fnpt694hy7mqPkG72Vr7ZsOEKW5KZFg0uq')   # replace ‘myapikey’ with your api key\n",
    "content = urlopen(req).read()\n"
   ]
  },
  {
   "cell_type": "code",
   "execution_count": 76,
   "id": "813819ed",
   "metadata": {
    "scrolled": false
   },
   "outputs": [],
   "source": [
    "data = json.loads(content)\n"
   ]
  },
  {
   "cell_type": "code",
   "execution_count": 79,
   "id": "add5c4c0",
   "metadata": {},
   "outputs": [
    {
     "data": {
      "text/plain": [
       "{'universal-id': '3618330',\n",
       " 'nces-id': '360846006612',\n",
       " 'state-id': '110200010012',\n",
       " 'name': 'Cortland Junior High School',\n",
       " 'school-summary': 'Cortland Junior High School, a public school located in Cortland, NY, serves grades 7-8 & Ungraded in the Cortland City School District.It has received a GreatSchools Rating of 2 out of 10, based on a variety of school quality measures.',\n",
       " 'type': 'public',\n",
       " 'level-codes': 'm',\n",
       " 'level': '7,8,UG',\n",
       " 'street': 'Valley View Drive',\n",
       " 'city': 'Cortland',\n",
       " 'state': 'NY',\n",
       " 'fipscounty': 36023,\n",
       " 'zip': '13045',\n",
       " 'phone': '(607) 758-4111',\n",
       " 'fax': None,\n",
       " 'county': 'Cortland County',\n",
       " 'lat': 42.589401,\n",
       " 'lon': -76.175407,\n",
       " 'district-name': 'Cortland City School District',\n",
       " 'district-id': 152,\n",
       " 'web-site': None,\n",
       " 'overview-url': 'https://www.greatschools.org/new-york/cortland/18330-Cortland-Junior-High-School/',\n",
       " 'rating': '2',\n",
       " 'year': 2022,\n",
       " 'rating-description': 'The GreatSchools Rating helps parents compare schools within a state based on a variety of school quality indicators and provides a helpful picture of how effectively each school serves all of its students. Ratings are on a scale of 1 (below average) to 10 (above average) and can include test scores, college readiness, academic progress, advanced courses, equity, discipline and attendance data. We also advise parents to visit schools, consider other information on school performance and programs, and consider family needs as part of the school selection process.'}"
      ]
     },
     "execution_count": 79,
     "metadata": {},
     "output_type": "execute_result"
    }
   ],
   "source": [
    "data['schools'][1]"
   ]
  },
  {
   "cell_type": "code",
   "execution_count": null,
   "id": "cd198757",
   "metadata": {},
   "outputs": [],
   "source": []
  }
 ],
 "metadata": {
  "kernelspec": {
   "display_name": "Python 3 (ipykernel)",
   "language": "python",
   "name": "python3"
  },
  "language_info": {
   "codemirror_mode": {
    "name": "ipython",
    "version": 3
   },
   "file_extension": ".py",
   "mimetype": "text/x-python",
   "name": "python",
   "nbconvert_exporter": "python",
   "pygments_lexer": "ipython3",
   "version": "3.9.7"
  }
 },
 "nbformat": 4,
 "nbformat_minor": 5
}
