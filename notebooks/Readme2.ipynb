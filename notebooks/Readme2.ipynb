{
 "cells": [
  {
   "cell_type": "markdown",
   "id": "1660554d",
   "metadata": {},
   "source": [
    "## Phase 2 Project\n",
    "\n",
    "Final Project Submission\n",
    "Please fill out:\n",
    "\n",
    "- Student name: Andrew Levinton\n",
    "- Student pace: self paced\n",
    "- Scheduled project review date/time:\n",
    "- Instructor name: Ahbhineet Kukarni\n",
    "- Blog post URL:"
   ]
  },
  {
   "cell_type": "markdown",
   "id": "78d40796",
   "metadata": {},
   "source": [
    "## Business Problem:\n",
    "# Stakeholder: Real Estate Agency - Zillow"
   ]
  },
  {
   "cell_type": "markdown",
   "id": "4be37676",
   "metadata": {},
   "source": [
    "![Zillow_logo19.png](./images/zillow.png)"
   ]
  },
  {
   "cell_type": "markdown",
   "id": "d6da4805",
   "metadata": {},
   "source": [
    "# Problem: \n",
    "Business problem - Provide advice to homeowners about how home renovations might increase the estimated value of their homes, and by what amount."
   ]
  },
  {
   "cell_type": "markdown",
   "id": "633048fd",
   "metadata": {},
   "source": [
    "### How problem will be approached"
   ]
  },
  {
   "cell_type": "markdown",
   "id": "f3d5e9e0",
   "metadata": {},
   "source": [
    "This problem will be approached using information from a built in linear regression model. The model will be built using both numerical and categorical data to provide what features may help to increase the price of peoples homes. Numerical data will be explored and categorical data will be added after in an attempt to improve the model."
   ]
  },
  {
   "cell_type": "markdown",
   "id": "bb28815c",
   "metadata": {},
   "source": [
    "### Description of the Data:\n",
    "King County House Sales dataset\n",
    "columns can be referred to in readme."
   ]
  },
  {
   "cell_type": "markdown",
   "id": "04aaafd5",
   "metadata": {},
   "source": [
    "### Target variable\n",
    "* `price` - Sale price (prediction target)"
   ]
  },
  {
   "cell_type": "markdown",
   "id": "93a6139f",
   "metadata": {},
   "source": [
    "Possible continuous numerical predictors, based on correlation:\n",
    "\n",
    "Based on correlation coefficient:\n",
    "- `sqft_living`- Square footage of living space in the home\n",
    "- `sqft_above`- Square footage of house apart from basement\n",
    "- `bathrooms`- Number of bathrooms\n",
    "- `sqft_patio`- Square footage of outdoor porch or deck space\n",
    "- `bedrooms` - Number of bedrooms\n",
    "-`sqft_garage`- Square footage of garage space\n",
    "- `school_rating` - Engineered based on data scraped from the GreatSchools API\n",
    "\n",
    "Other numerical variables:\n",
    "- `sqft_lot` - Square footage of the lot\n",
    "- `sqft_basement` - Square footage of the basement\n",
    "- `lat` - Latitude coordinate\n",
    "- `long` - Longitude coordinate"
   ]
  },
  {
   "cell_type": "markdown",
   "id": "d3e0a5de",
   "metadata": {},
   "source": [
    "### Simple Linear Regression on select features"
   ]
  },
  {
   "cell_type": "markdown",
   "id": "82c8e337",
   "metadata": {},
   "source": [
    "These categories are interesting because they are both continuous and integer values that \n",
    "\n",
    "Possible string categorical variables:\n",
    "- `greenbelt`- Whether the house is adjacent to a green belt\n",
    "- `view`- Quality of view from house\n",
    "- `waterfront` - Whether the house is on a waterfront\n",
    "  * Includes Duwamish, Elliott Bay, Puget Sound, Lake Union, Ship Canal, Lake Washington, Lake Sammamish, other lake, and river/slough waterfronts\n",
    "- `nuisance` - Whether the house has traffic noise or other recorded nuisances\n",
    "* `date` - Date house was sold\n",
    "\n",
    "Possible numerical categorical variables:\n",
    "* `condition` - How good the overall condition of the house is. Related to maintenance of house.\n",
    "  * See the [King County Assessor Website](https://info.kingcounty.gov/assessor/esales/Glossary.aspx?type=r) for further explanation of each condition code\n",
    "\n",
    "* `grade` - Overall grade of the house. Related to the construction and design of the house.\n",
    "  * See the [King County Assessor Website](https://info.kingcounty.gov/assessor/esales/Glossary.aspx?type=r) for further explanation of each \n",
    "\n",
    "\n",
    "* `bedrooms` - Number of bedrooms\n",
    "* `bathrooms` - Number of bathrooms\n",
    "* `floors` - Number of floors (levels) in house"
   ]
  },
  {
   "cell_type": "markdown",
   "id": "bd565e83",
   "metadata": {},
   "source": [
    "Assumption check:\n",
    "- `Is it linear?`\n",
    "- `Is it normal?`\n",
    "    - histogram\n",
    "    - QQ-plot\n",
    "- `Is it homoscedastic?`"
   ]
  },
  {
   "cell_type": "markdown",
   "id": "a52bb791",
   "metadata": {},
   "source": [
    "### Plan for building stats model:\n",
    "- Narrow down variables to selections(also known as FEATURES)\n",
    "- One hot encode any categorical variables for plotting purposes\n",
    "- be prepared to remove certain \"dummies\" from the dataset to optimize one hot encoding. \n",
    "\n",
    "### Process for \"narrowing\":\n",
    "- Look at:\n",
    "    - `Scatter plots`\n",
    "    - `histograms`\n",
    "    - `correlation coefficients`\n",
    "    - `statsmodel p-values to test if the feature is statistically significant`\n",
    "- Try transforming the data via linear, logarithmic or polynomial transformation to see how shape of data changes. "
   ]
  },
  {
   "cell_type": "markdown",
   "id": "04fa81df",
   "metadata": {},
   "source": [
    "## Observing correlation matrix for possible features that can be used with the price\n",
    "![image-2.png](./images/Correlations.png)\n",
    "\n",
    "![image-2.png](./images/corrheatmap.png)"
   ]
  },
  {
   "cell_type": "markdown",
   "id": "093bb711",
   "metadata": {},
   "source": [
    "## Interesting Correlations\n",
    "\n",
    "At first glance, it appears that the following variables are the \"most interesting\" variables to look at:\n",
    "- `sqft_living`\n",
    "- `sqft_above`\n",
    "- `bathrooms`\n",
    "- `sqft_patio`\n",
    "- `lat`\n",
    "- `bedrooms`\n",
    "- `school rating`\n",
    "- `sqft_basement`\n",
    "- `floors`\n",
    "\n",
    "The correlations may not be the best metric for picking features because there could be a case of statistical insignificance or skewed data (data is not normally distributed). For further investigation, we will also look at the variance inflation factor (VIF)."
   ]
  },
  {
   "cell_type": "markdown",
   "id": "38d51b23",
   "metadata": {},
   "source": [
    "### Variance inflation factor (VIF)\n",
    "\n",
    "Multicollinearity occurs when there are two or more independent variables in a multiple regression model, which have a high correlation among themselves. When some features are highly correlated, we might have difficulty in distinguishing between their individual effects on the dependent variable. Multicollinearity can be detected using various techniques, one such technique being the Variance Inflation Factor(VIF).\n",
    "\n",
    "In VIF method, we pick each feature and regress it against all of the other features. For each regression, the factor is calculated as :\n",
    "\n",
    "VIF = 1 / (1 - R^2)\n",
    "\n",
    "Where, R-squared is the coefficient of determination in linear regression. Its value lies between 0 and 1.\n",
    "\n",
    "The list of variance inflation factors are calculated for each numerical value below:\n",
    "\n",
    "\n",
    "#### VIF Data: \n",
    "\n",
    "Variable            VIF\n",
    "- `bedrooms`:      24.768622\n",
    "- `bathrooms`:     26.263735\n",
    "- `sqft_living`:   119.808110\n",
    "- `sqft_lot`:      1.140594\n",
    "- `floors`:        17.177547\n",
    "- `condition`:     31.150197\n",
    "- `grade`:         133.035571\n",
    "- `sqft_above`:    92.874304\n",
    "- `sqft_basement`: 7.075288\n",
    "- `sqft_garage`:   4.675596\n",
    "- `sqft_patio`:    2.240790\n",
    "- `yr_built`:      9263.218882\n",
    "- `yr_renovated`:  1.211647\n",
    "- `lat`:           136585.268881\n",
    "- `long`:          146658.438892\n",
    "- `school_rating`: 22.635104\n",
    "- `month`:         697.233857\n",
    "- `day_of_year`:   612.219197"
   ]
  },
  {
   "cell_type": "markdown",
   "id": "f83032f4",
   "metadata": {},
   "source": [
    "#### VIF levels:\n",
    "\n",
    "- Good: VIF <= 5\n",
    "\n",
    "- Moderate/Questionable: VIF >=5 and VIF <= 10\n",
    "\n",
    "- Throw out: VIF >= 10"
   ]
  },
  {
   "cell_type": "markdown",
   "id": "729df8e9",
   "metadata": {},
   "source": [
    "#### Good VIFS: \n",
    "- `sqft_lot`: 1.140594\n",
    "- `sqft_garage`: 4.675596\n",
    "- `sqft_patio`: 2.240790\n",
    "- `yr_renovated`: 1.211647\n",
    "\n",
    "#### Questionable VIFS: \n",
    "- `sqft_basement`: 7.075288\n",
    "\n",
    "#### Throw out VIFS: \n",
    "- `bedrooms`: 24.768622\n",
    "- `bathrooms`: 26.263735\n",
    "- `sqft_living`: 119.808110\n",
    "- `floors`: 17.177547\n",
    "- `sqft_above`: 92.874304\n",
    "- `yr_built`: 9263.218882\n",
    "- `lat`: 136585.268881\n",
    "- `long`: 146658.438892\n",
    "- `month`: 697.233857\n",
    "- `day_of_year`: 612.219197\n",
    "- `school_rating`: 22.635104\n",
    "\n",
    "It appears at first glance that the data only yields a small set of independent variables that are not highly collinear with eachother. This will be looked at again after the removal of outliers, and the transformation of data."
   ]
  },
  {
   "cell_type": "markdown",
   "id": "8fd00031",
   "metadata": {},
   "source": [
    "![image.png](./images/scatterplots.png)"
   ]
  },
  {
   "cell_type": "markdown",
   "id": "e57c4a31",
   "metadata": {},
   "source": [
    "# Model #1 - numerical predictors only, some categorical\n",
    "![image-2.png](./images/OLS_Model_1.png)"
   ]
  },
  {
   "cell_type": "markdown",
   "id": "0ef4e5cc",
   "metadata": {},
   "source": [
    "\n",
    "Predictors:\n",
    "- `bedrooms`\n",
    "- `bathrooms`\n",
    "- `sqft_living`\n",
    "- `sqft_lot`\n",
    "- `floors`\n",
    "- `condition` - redefined to numerical values\n",
    "- `grade`- redefined to numerical values\n",
    "- `sqft_above`\n",
    "- `sqft_basement`\n",
    "- `sqft_garage`\n",
    "- `sqft_patio`\n",
    "- `lat`\n",
    "- `long`\n",
    "- `school_rating`\n",
    "\n",
    "Target variable:\n",
    "- `price`\n",
    "\n",
    "\n",
    "## Observations\n",
    "p_value > 0.05\n",
    "\n",
    "\n",
    "- `month`\n",
    "- `long`\n",
    "\n",
    "\n",
    "** look at again after adjusting for outliers\n",
    "\n",
    "\n",
    " - All variables with a p_value > 0.05 are deemed statistically insignificant and will eventually be dropped from the final model.\n",
    "\n",
    " - Month was not anticipated as an effective predictor because it is not typical for the season to affect the sale price of a house.\n",
    " \n",
    " - longitude will continue to be looked at but appears insignificant to the model now\n",
    " \n",
    " \n",
    "Additional Observations:\n",
    " - The adjusted r-squared value is .514, indicating that his model can explain approximately 51.4% of the data.\n",
    " -  Skew: A kurtosis value between -2 and +2 is good to prove normalcy. The skew value is 10.060, indicating that this model is heavily skewed. This will be addressed through transformations to normalize the data. "
   ]
  },
  {
   "cell_type": "markdown",
   "id": "47d134c5",
   "metadata": {},
   "source": [
    "![image.png](./images/model1residhist.png)"
   ]
  },
  {
   "cell_type": "markdown",
   "id": "bbe2cae6",
   "metadata": {},
   "source": [
    "## Possible Improvements to be made to model:\n",
    "- dropping of variables that are not statistically significant (Pval > 0.05)\n",
    "- addition of categorial variables(one hot encoded)\n",
    "- location would possibly be the most interesting variable, mapped against the waterfront or view variable\n",
    "- transformation of data to satisfy normality assumption -ex: log transformation or square root transformation\n",
    "- removal of outliers: Outliers in this case will be considered to be any data falling greater than \n",
    "  3 standard deviations outside the mean\n",
    "### Goals\n",
    "    - improve skewness\n",
    "    - reduce homoscedacity\n",
    "    - increase rsquared to promote higher level explanation of data from model"
   ]
  },
  {
   "cell_type": "markdown",
   "id": "b6fca8e9",
   "metadata": {},
   "source": [
    "## Possible categorical variables of interest: \n",
    "\n",
    "* `waterfront` - Whether the house is on a waterfront\n",
    "  * Includes Duwamish, Elliott Bay, Puget Sound, Lake Union,Lake Washington, Lake Sammamish, other lake \n",
    "  Data is engineered by zipcode in this study.\n",
    "* `greenbelt` - Whether the house is adjacent to a green belt\n",
    "* `nuisance` - Whether the house has traffic noise or other recorded nuisances\n",
    "* `view` - Quality of view from house\n",
    "  * Includes views of Mt. Rainier, Olympics, Cascades, Territorial, Seattle Skyline, Puget Sound, Lake Washington, Lake Sammamish, small lake / river / creek, and other\n",
    "* `heat_source` - Heat source for the house\n",
    "* `sewer_system` - Sewer system for the house\n",
    "* `address` - The street address\n",
    "\n",
    "The grade and condition are already changed to numerical variables, so this part of the analysis will focus on the string categorical variables. \n",
    "\n",
    "The address appears to be the most interesting variable in the batch because it can be mapped against the waterfronts or the quality of view from the houses. For this, we will extrapolate features of the address to reduce and categorize the location. \n",
    "\n",
    "Waterfont, greenbelt, nuisance, view, sewer(onehotencoded), and heat source(onehotencoded) are added to the model to see its effects."
   ]
  },
  {
   "cell_type": "markdown",
   "id": "cf31f204",
   "metadata": {},
   "source": [
    "## Model #2"
   ]
  },
  {
   "cell_type": "markdown",
   "id": "955633cd",
   "metadata": {},
   "source": [
    "### Changes to create model 2\n",
    "\n",
    "- Additon of categorical variables: \n",
    "- `waterfront, view, greenbelt`: changed to booleans or scaled as 1-4 depending on number of options\n",
    "- `sewer, heatsource`: one hot encoded to be added as numerical variable"
   ]
  },
  {
   "cell_type": "markdown",
   "id": "efce42a9",
   "metadata": {},
   "source": [
    "![image-2.png](./images/OLS_Model_2.png)"
   ]
  },
  {
   "cell_type": "markdown",
   "id": "991c4aee",
   "metadata": {},
   "source": [
    "## Observations of Model 2\n",
    "Predictors:\n",
    "- 'bedrooms'\n",
    "- 'bathrooms'\n",
    "- 'sqft_living'\n",
    "- 'floors'\n",
    "- 'grade'\n",
    "- 'sqft_above',\n",
    "- 'sqft_basement'\n",
    "- 'sqft_garage'\n",
    "- 'sqft_patio'\n",
    "- 'yr_built',\n",
    "- 'yr_renovated'\n",
    "- 'lat'\n",
    "- 'long'\n",
    "- 'school_rating\n",
    "- 'day_of_year'\n",
    "- 'waterfront'\n",
    "- 'nuisance',\n",
    "- 'view'\n",
    "- 'heat_source' - one hot encoded\n",
    "- 'sewer' - one hot encoded\n",
    "\n",
    "pvalue > 0.05\n",
    "- long\n",
    "- yr_renovated\n",
    "- month\n",
    "- sewer_PRIVATE RESTRICTED\n",
    "- sewer_PUBLIC RESTRICTED\n",
    "- heat_source_Electricity/Solar\n",
    "- heat_source_Gas\n",
    "- heat_source_Gas/Solar\n",
    "- heat_source_Oil/Solar\n",
    "- heat_source_Other\n",
    "- nuisance\n",
    "- greenbelt\n",
    "\n",
    "Categorical variables of waterfront, nuisance, and view were encoded with numbers to see if improvements were made. \n",
    "\n",
    "Model is still highly skewed although did present itself with some improvements. Next steps will be to normalize the data by transforming features that are skewed within the data, as well as remove outliers\n",
    "\n",
    "- Jarque-Bera score is sky high and must come down for the model to hold any validity. \n",
    "- Durbin Watson score is in the acceptable range of 1.50-2.50\n",
    "- Rsquared has 'improved' but only at the expense of the the continued flaws mentioned before. \n",
    "\n",
    "## Next Steps\n",
    "Next steps are to improve numerical variables by:\n",
    "- `removing outliers to improve skew` \n",
    "- An outlier will be defined as three standard deviations away from the mean of the target variable.\n",
    "\n",
    "- `transform variables so they are normally distributed within the model`\n",
    "- The target variable will be transformed to normalize the distribution. \n",
    "- removing variables that have a pvalue > 0.05"
   ]
  },
  {
   "cell_type": "markdown",
   "id": "312e8b56",
   "metadata": {},
   "source": [
    "## Model #3 - Ran after outliers are removed"
   ]
  },
  {
   "cell_type": "markdown",
   "id": "65fd8066",
   "metadata": {},
   "source": [
    "![image.png](./images/OLS_Model_3.png)"
   ]
  },
  {
   "cell_type": "markdown",
   "id": "7dc28b82",
   "metadata": {},
   "source": [
    "![image.png](./images/model3residafteroutliersremoved.png)"
   ]
  },
  {
   "cell_type": "markdown",
   "id": "96c57a4a",
   "metadata": {},
   "source": [
    "#### Predictors\n",
    "\n",
    "- `bedrooms`\n",
    "- `bathrooms` \n",
    "- `sqft_living` \n",
    "- `sqft_lot \n",
    "- `floors`\n",
    "- `condition` \n",
    "- `grade` \n",
    "- `sqft_above` \n",
    "- `sqft_basement` \n",
    "- `sqft_garage`\n",
    "- `sqft_patio` \n",
    "- `yr_built` \n",
    "- `yr_renovated` \n",
    "- `lat` \n",
    "- `long` \n",
    "- `month`\n",
    "- `day_of_year` \n",
    "- `sewer_PRIVATE RESTRICTED` \n",
    "- `sewer_PUBLIC`\n",
    "- `sewer_PUBLIC RESTRICTED` \n",
    "- `heat_source_Electricity/Solar`\n",
    "- `heat_source_Gas` \n",
    "- `heat_source_Gas/Solar` \n",
    "- `heat_source_Oil`\n",
    "- `heat_source_Oil/Solar` \n",
    "- `heat_source_Other` \n",
    "- `waterfront` \n",
    "- `nuisance`\n",
    "- `view` \n",
    "- `greenbelt`\n",
    "\n",
    "## Observations of model 3\n",
    "pvalue > 0.05\n",
    "- `sqft_basement` \n",
    "- `sewer_PRIVATE RESTRICTED`\n",
    "- `sewer_PUBLIC RESTRICTED`\n",
    "- `heat_source_Electricity/Solar`\n",
    "- `heat_source_Oil/Solar`\n",
    "- `heat_source_Other`\n",
    "\n",
    "\n",
    "\n",
    "- Adjusted rsquared indicates that the model explains 63.3% of the data.\n",
    "- Skewness has improved dramatically to an acceptable range between -2 and 2. The removal of outliers has made this possible.\n",
    "- Durbin-Watson score is still in the acceptable ranges of 1.5-2.5\n",
    "- Jarque-Bera score is still very high but has been brought down by a significant factor. Still not perfect but trending in the right direction.\n",
    "- Multicollinearity is possibly present in the model and likely so given the initial VIFs before the first model was built. VIFS should be revisited again to see if those variables are worth keeping. "
   ]
  },
  {
   "cell_type": "markdown",
   "id": "6fb3927f",
   "metadata": {},
   "source": [
    "# Looking at transformations for the target variable aka price.\n",
    "\n",
    "## Histogram and QQplot of the target variable\n",
    "![image.png](./images/histQQprice.png)\n",
    "\n",
    "### Issue above is the data shows linearization everywhere but both tails of the data. Catching the lower tail will be the goal for the test of transformation. For this, we will try a root transformation. \n",
    "\n",
    "\n",
    "## Histogram and QQplot of the transformed target variable\n",
    "![image-2.png](./images/histqqsqrtprice.png)\n",
    "\n",
    "\n",
    "\n",
    "![image-3.png](./images/TVtransformations.png)"
   ]
  },
  {
   "cell_type": "markdown",
   "id": "de1e6fc1",
   "metadata": {},
   "source": [
    "### Checking model with transformed target variable - square root transformation\n",
    "![image.png](./images/OLS_Model_sqrt.png)\n",
    "\n",
    "\n",
    "![image-2.png](./images/model3residsqrtprice.png)\n",
    "\n",
    "## y_log vs y_sqrt\n",
    "\n",
    "The model with the square root transformation appears to be less skewed and possesses a higher rsquared value, lending the ability of the model to explain more of the data. For these reasons we will use y_sqrt as our dependent variable for now until y_log appears to outweight the benefit of y_sqrt.\n",
    "\n",
    "Jarque-Beras score is significantly better as well with the y_sqrt variable so I'll go with it for now. "
   ]
  },
  {
   "cell_type": "markdown",
   "id": "a5456fbb",
   "metadata": {},
   "source": [
    "## Checking distribution of predictor\n",
    "\n",
    "\n",
    "### Looking at sqft_living\n",
    "![image.png](./images/sqftliving.png)\n",
    "\n",
    "### Log transformed sqft_living (sqft_living_log)\n",
    "![image-2.png](./images/sqftliving_log.png)"
   ]
  },
  {
   "cell_type": "markdown",
   "id": "d478a496",
   "metadata": {},
   "source": [
    "## Model ran one more time - after dropping bedrooms, and all onehotencoded variables with pval > 0,05\n",
    "\n",
    "![image-4.png](./images/OLS_Model_3_after_dropped_variables.png)\n",
    "\n",
    "### Residual distribution\n",
    "![image-5.png](./images/residonemore.png)\n",
    "\n",
    "\n",
    "## Observations\n",
    "\n",
    "- pval > 0.05\n",
    "\n",
    "`bedrooms` - dropped from the current model\n",
    "\n",
    "- all variables are statistically significant (pvalue < 0.05)\n",
    "- Durbin-Watson Score continues to be \"fine\" but not improve a whole lot.\n",
    "- Jarque-Bera Score continues to improve but still must come down\n",
    "- skewness is now an afterthought as its at a very low -0.347\n",
    "Overall no real improvement of the model happens here, we will try adding in new variables to improve as well as revisit VIFs to likely drop all that were originally at extremely high levels. \n",
    "\n",
    "\n",
    "Next steps to improve the model:\n",
    "1. revisit VIFs to see if any variables(now that outliers are removed and data has been transformed) should now be dropped from the model. \n",
    "2. New predictors will be engineered to be added to the model. The next focus will be on the zipcodes in an attempt to narrow down the data with location-dependent price points. Possible data to be looked at are:\n",
    "- waterfronts \n",
    "- views\n",
    "- school districts: rating, and school taxes\n",
    "- tax brackets"
   ]
  },
  {
   "cell_type": "markdown",
   "id": "720eb9ba",
   "metadata": {},
   "source": [
    "## Rerunning model after scaling\n",
    "\n",
    "![image.png](./images/OLS_Model_Scaled.png)\n",
    "\n",
    "### Residual Distribution Plot \n",
    "![image.png](./images/residualnobedrooms.png)\n",
    "\n",
    "#### Checking VIFs\n",
    "![image-3.png](./images/scaledVIFs.png)\n",
    "- VIFs for many variables are still elevated and need to be dropped from model if that remains in the final model. "
   ]
  },
  {
   "cell_type": "markdown",
   "id": "d1e9dcde",
   "metadata": {},
   "source": [
    "## Final model\n",
    "\n",
    "#### Model is ran after adding the waterfront data (one hot encoded) as well as dropping any additional variables that are of a pvalue > 0.05\n",
    "\n",
    "![image.png](./images/final_model.png)\n",
    "### Residual Distribution Plot \n",
    "\n",
    "![image-2.png](./images/finalresid.png)\n",
    "\n",
    "### Final Check on VIFs for multicollinearity\n",
    "![image-3.png](./images/final_vifs.png)\n",
    "\n",
    "- All VIFs are under 3 but one, addressing the issue of multicollinearity. The statsmodel also does not label any concerns on multicollinearity."
   ]
  },
  {
   "cell_type": "markdown",
   "id": "18e279f6",
   "metadata": {},
   "source": [
    "### QQplots of all variables\n",
    "\n",
    "As shown below, the QQplots of all the variables satisfies linearity which is one of the required assumptions for the model, with some issues at the upper and lower tail for some. \n",
    "\n",
    "![image.png](./images/final_QQplot.png)"
   ]
  },
  {
   "cell_type": "markdown",
   "id": "1fba1ffe",
   "metadata": {},
   "source": [
    "### Interpretation"
   ]
  },
  {
   "cell_type": "markdown",
   "id": "94ea2631",
   "metadata": {},
   "source": [
    "We have a linear model with the dependent variable (price) square root transformed, and the following independent variables and their corresponding coefficients:\n",
    "\n",
    "- const: 963.234796\n",
    "- bathrooms: 20.254186\n",
    "- sqft_lot: 10.414107\n",
    "- floors: -7.052045\n",
    "- condition: 24.035449\n",
    "- grade: 68.459181\n",
    "- sqft_above: 74.797094\n",
    "- sqft_basement: 23.043827\n",
    "- sqft_garage: -4.584058\n",
    "- sqft_patio: 8.214320\n",
    "- yr_built: -23.544185\n",
    "- yr_renovated: 7.226726\n",
    "- lat: 88.816082\n",
    "- long: 11.343899\n",
    "- school_rating: 27.353843\n",
    "- sewer_PUBLIC: 6.584108\n",
    "- heat_source_Gas: 9.278196\n",
    "- heat_source_Gas/Solar: 3.607930\n",
    "- waterfront: 6.715330\n",
    "- nuisance: -6.073275\n",
    "- view: 22.472439\n",
    "- greenbelt: 7.161059\n",
    "- water_Elliot Bay: -25.286029\n",
    "- water_Lake Sammamish: 75.729413\n",
    "- water_Lake Washington: -64.398218\n",
    "- water_Puget Sound: -16.004882\n",
    "\n",
    "`- Adjusted rsquared indicates the model explains 62.6% of the data`\n",
    "\n",
    "The linear regression model with a dependent variable that has been square root transformed and scaled, along with independent variables that have been scaled as z-scores, can be interpreted as follows:\n",
    "\n",
    "The model is used to predict the price of a house, which has been square root transformed, based on the values of several independent variables. Each independent variable has been standardized to a z-score, so the coefficients represent the change in the dependent variable (price) for a one standard deviation increase in the independent variable.\n",
    "\n",
    "Specifically, the interpretation of the coefficients is as follows:\n",
    "\n",
    "The constant coefficient in a linear regression model represents the expected value of the dependent variable (in this case, the square root of the price) when all the independent variables are equal to zero. Therefore, as the constant coefficient is 963.234796, we would expect the square root of the price to be around 963 when all the independent variables are zero. However, it's important to note that in the context of the model, there may not be any real-world scenarios where all the independent variables are actually zero. The constant term is mainly used as a baseline reference point for the other predictors in the model.\n",
    "\n",
    "- `As the number of bathrooms increases by one standard deviation, the square root price increases by 20.254186.`\n",
    "- `As the size of the lot increases by one standard deviation, the square root price increases by 10.414107.`\n",
    "- `As the number of floors increases by one standard deviation, the square root price decreases by 7.052045.`\n",
    "- `As the condition of the house increases by one standard deviation, the square root price increases by 24.035449.`\n",
    "- `As the grade of the house increases by one standard deviation, the square root price increases by 68.459181.`\n",
    "- `As the size of the above ground living area increases by one standard deviation, the square root price increases by 74.797094.`\n",
    "- `As the size of the basement living area increases by one standard deviation, the square root price increases by 23.043827.`\n",
    "- `As the size of the garage increases by one standard deviation, the square root price decreases by 4.584058.`\n",
    "- `As the size of the patio increases by one standard deviation, the square root price increases by 8.214320.`\n",
    "- `As the age of the house (yr_built) increases by one standard deviation, the square root price decreases by 23.544185.`\n",
    "- `As the year of renovation (yr_renovated) increases by one standard deviation, the square root price increases by 7.226726.`\n",
    "- `As the latitude of the house increases by one standard deviation, the square root price increases by 88.816082.`\n",
    "- `As the longitude of the house increases by one standard deviation, the square root price increases by 11.343899.`\n",
    "- `As the school rating increases by one standard deviation, the square root price increases by 27.353843.`\n",
    "- `As the house has a public sewer system (sewer_PUBLIC) instead of a private one, the square root price increases by 6.584108.`\n",
    "- `As the heat source for the house switches from something other than gas to gas, the square root price increases by 9.278196.`\n",
    "- `As the heat source for the house switches from something other than gas/solar to gas/solar, the square root price increases by 3.607930.`\n",
    "- `As the house is on a waterfront property, the square root price increases by 6.715330.`\n",
    "- `As the house experiences a nuisance (as defined by the model), the square root price decreases by 6.073275.`\n",
    "- `As the view from the house improves by one standard deviation, the square root price increases by 22.472439.`\n",
    "- `As the house is adjacent to a greenbelt, the square root price increases by 7.161059.`\n",
    "- `As the house is located closer to Elliot Bay (in Seattle), the square root price decreases by 25.286029.`\n",
    "- `As the house is located closer to Lake Sammamish, the square root price increases by 75.729413.`\n",
    "- `As the house is located closer to Lake Washington, the square root price decreases by 64.398218.`\n",
    "- `As the house is located closer to Puget Sound, the square root price decreases by 16.004882.`"
   ]
  },
  {
   "cell_type": "markdown",
   "id": "d0f3dee1",
   "metadata": {},
   "source": [
    "## Conclusion\n",
    "This entire process included the above described data engineering techniques, as well as an extensive look at transforming variables, feature selection and elimination through trial and error. Different transformations on the price for example were attempted to normalize the distribution, but the decision was made to use the square root transformation as it lended itself to dealing with the upper and lower tails of the distribution of the price more efficiently. \n",
    "\n",
    "The rest of the data cleaning process also included dropping or filling in of missing values, removal of outliers, one hot encoding categorical variables as well as dropping all variables that presented themselves with a high variance inflation factor. The use of QQplots and histograms were used to check the distribution of residuals. \n",
    "\n",
    "\n",
    "## Four assumptions\n",
    "The decisions of the creation of this model were based on the four assumptions with the method of justification, which are:\n",
    "\n",
    "1. Linearity assumption: Scatterplots of the variables should represent some level of linearity aka correlation to the target variable. The use of scatterplots and correlation matrices were the method of justification for this assumption. \n",
    "\n",
    "2. Normality Assumption: Use of QQplots and Residual histograms were the method for justifying normality. \n",
    "The normality assumption in linear regression models refers to the assumption that the residuals (i.e., the difference between the observed and predicted values) are normally distributed. This assumption is important because many statistical tests and procedures used in linear regression models rely on the assumption of normality, including hypothesis testing, confidence intervals, and prediction intervals.\n",
    "\n",
    "One way to check for normality of the residuals is by using a Q-Q plot (quantile-quantile plot). A Q-Q plot is a graphical tool that compares the distribution of the residuals to a normal distribution. If the residuals are normally distributed, the points in the Q-Q plot should follow a straight line. Any deviation from the straight line indicates that the residuals are not normally distributed. Specifically, if the points in the Q-Q plot deviate from the straight line in the tails of the distribution, it suggests that the residuals have heavier tails than a normal distribution. On the other hand, if the points in the Q-Q plot deviate from the straight line in the center of the distribution, it suggests that the residuals have a skewed distribution.\n",
    "\n",
    "Another way to check for normality of the residuals is by using a histogram. A histogram is a graph that shows the frequency distribution of the residuals. If the residuals are normally distributed, the histogram should have a bell-shaped curve, with the majority of the residuals near the mean and fewer residuals towards the tails of the distribution. Any deviation from the bell-shaped curve indicates that the residuals are not normally distributed.\n",
    "\n",
    "3. Homoscedasticity: Durbin-Watson score close to 2 indicates that the errors are approximately normally distributed with constant variance.\n",
    "\n",
    "A Durbin-Watson score close to 2 generally indicates that the model's errors are approximately homoscedastic (i.e., the variance of the errors is constant across all levels of the predictor variables).\n",
    "\n",
    "This is because a score close to 2 suggests that the errors are approximately normally distributed with constant variance, which is a key assumption of many regression models. When the errors are homoscedastic, it means that the variability of the dependent variable is relatively constant across different levels of the independent variables, which allows for more accurate estimation of the coefficients and predictions of the model.\n",
    "\n",
    "4. Multicollinearity: VIF scores for independent variables. \n",
    "\n",
    "Variance Inflation Factors (VIFs) are a measure used to assess the degree of multicollinearity in a multiple regression model. Multicollinearity occurs when two or more independent variables in a regression model are highly correlated with each other, which can make it difficult to interpret the individual effects of each variable on the dependent variable.\n",
    "\n",
    "\n",
    "## Final assessment and thoughts of the model\n",
    "- When plotted the model residuals show a normalized distribution, satisfying the normality assumption although with fairly long tails. This is something to be added into the future work. \n",
    "- The Durbin-Watson score is almost exactly 2, satisfying the assumption of homoscedasticity. \n",
    "- The linearity assumption was satisfied through a rigorous look at the plots and in general can be a difficult metric to validate. \n",
    "- The skew level of the data is well within the acceptable range of -2 to 2 which is a vast improvement from the original model which was originally above 10. \n",
    "- The kurtosis level is outside the acceptable range of -7 to 7 at a score of ~8.5, but however is still a major improvement from the original model. This is one that should be looked at later. \n",
    "- The Jarque Beras score is a massive 35770 which will require further investigation for future work. My instincts tell me there still may be some major outliers that may be affecting this score as the QQplots appear to be for the most part okay. \n",
    "\n",
    "\n",
    "\n",
    "## Conclusion\n",
    "\n",
    "`A positive coefficient indicates that as the corresponding independent variable increases, the square root of the price of the house also increases, while a negative coefficient indicates that as the corresponding independent variable increases, the square root of the price of the house decreases.`\n",
    "\n",
    "`In this model, we see that the most important variable in predicting the square root of house prices is the latitude of the house, with a coefficient of 100.368386. This suggests that houses located further north tend to have higher prices. The next most important variable is water proximity, with Water_Lake Sammamish variable having a very high coefficient of 75.729, suggesting that houses located near this lake tend to have much higher prices than other houses. On the other hand, the Water_Lake Washington variable has a negative coefficient, indicating that houses located near this lake tend to have lower prices than other houses.`\n",
    "\n",
    "`Other important variables include the grade of the house, the square footage of the house above ground, and the condition of the house, all with coefficients greater than 20. The number of bathrooms, square footage of the basement, and the size of the view from the house are also important, with coefficients greater than 15.`\n",
    "\n",
    "`On the other hand, variables such as the square footage of the garage and the presence of a nuisance nearby have negative coefficients, indicating that houses with larger garages or located near nuisances tend to have lower prices. The year the house was built and the longitude of the house also have negative coefficients, suggesting that older houses and houses located further west tend to have lower prices.`\n",
    "\n",
    "`Overall, these results suggest that there are many factors that contribute to the price of a house, and that location, house size and quality, and the presence of nearby amenities all play important roles in determining the square root of house prices.`\n",
    "\n",
    "\n",
    "## Recommendations\n",
    "\n",
    "For the purposes of Zillows ability to choose inventory in the King County Real Estate Market, I recommend looking at properties that are near Lake Sammish or that are further north that also is accompanied with a waterfront. Since the grade, condition, and number of bathrooms appear positively correlated to the price it would make sense to try and buy older homes in the aforementioned areas as older homes tend to be cheaper in terms of price. Taking these homes and ensuring the grade and condition are of high quality through either pre-assessed purchases or renovations, along with possibly adding bathrooms can raise the price for resell value. Picking houses near school districts of high rating can have an impact as well. \n",
    "\n",
    "Houses towards the west as well as ones that present nuisances clearly result in lower prices, so my recommendation would be to avoid buying houses that fit these parameters as it may result in \"holding the bag\" scenarios which could lead to longer times held with inventory. \n",
    "\n",
    "The only invalid metric that should probably be ignored for now(but explored further) is the size of the garage negatively affecting the price. I would not consider this to be an accurate assessment, but I do not want to exclude it from the model. \n",
    "\n",
    "\n",
    "#### Questions model can answer:\n",
    "\n",
    "- `Should the house be on a waterfront?`\n",
    "- `How far north should the houses be?`\n",
    "- `What age should the house have?`\n",
    "- `What level of renovations need to be performed on the houses, and when?`\n",
    "- `Will the house price be affected by common nuisances? (eg. noise, construction, bugs)`\n",
    "- `How far west should the house be before one should lose interest of the purchase?`\n",
    "- `What average quality of schools in the surrounding area?`\n",
    "\n",
    "## Future Work\n",
    "\n",
    "In the future work, it is worth revisiting the value of the homes on the remaining waterfronts and seeing if there is any statistical significance. More exploration is needed but was not ready to be presented at this time. \n",
    "\n",
    "The views that are highlighted in the column_names.md documentation can be explored and onehotencoded and could be a potential candidate feature. \n",
    "\n",
    "Jarque Beras score and outliers of the dataset should be further explored. The use of 3 standard deviations from the mean being the metric for outliers could be expanded slightly as it appears this was still affected in a major way. \n",
    "\n",
    "Any independent variables that presented with a Variance Inflation factor above 5 should be looked at again to see if multicollinearity is an issue with these particular variables. \n"
   ]
  },
  {
   "cell_type": "code",
   "execution_count": null,
   "id": "20ec53b9",
   "metadata": {},
   "outputs": [],
   "source": []
  }
 ],
 "metadata": {
  "kernelspec": {
   "display_name": "Python 3 (ipykernel)",
   "language": "python",
   "name": "python3"
  },
  "language_info": {
   "codemirror_mode": {
    "name": "ipython",
    "version": 3
   },
   "file_extension": ".py",
   "mimetype": "text/x-python",
   "name": "python",
   "nbconvert_exporter": "python",
   "pygments_lexer": "ipython3",
   "version": "3.9.7"
  }
 },
 "nbformat": 4,
 "nbformat_minor": 5
}
